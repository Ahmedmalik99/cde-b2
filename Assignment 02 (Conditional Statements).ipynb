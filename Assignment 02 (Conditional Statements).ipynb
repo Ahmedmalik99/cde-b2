{
 "cells": [
  {
   "cell_type": "markdown",
   "metadata": {},
   "source": [
    "1) A company decided to give bonus of 5% to employee if his/her year of service is more than 5 years.\n",
    "Ask user for their salary and year of service and print the net bonus amount."
   ]
  },
  {
   "cell_type": "code",
   "execution_count": 2,
   "metadata": {},
   "outputs": [
    {
     "name": "stdout",
     "output_type": "stream",
     "text": [
      "enter your expreince: 6\n",
      "enter yur salary: 100\n",
      "your bonus is  5.0 rs\n"
     ]
    }
   ],
   "source": [
    "service = int(input(\"enter your expreince: \"))\n",
    "salary =  int(input(\"enter yur salary: \"))\n",
    "\n",
    "if service>5:\n",
    "    bonus = (salary*5)/100\n",
    "    print(\"your bonus is \",bonus,\"rs\")"
   ]
  },
  {
   "cell_type": "markdown",
   "metadata": {},
   "source": [
    "\n",
    "2) Write a program to check whether a person is eligible for voting or not. (accept age from user) if age is greater than 17 eligible otherwise not eligible"
   ]
  },
  {
   "cell_type": "code",
   "execution_count": 3,
   "metadata": {},
   "outputs": [
    {
     "name": "stdout",
     "output_type": "stream",
     "text": [
      "Ener your age: 19\n",
      "you are eligible for voting\n"
     ]
    }
   ],
   "source": [
    "age = int(input(\"Ener your age: \"))\n",
    "if age>17:\n",
    "    print(\"you are eligible for voting\")\n",
    "else:\n",
    "    print(\"you are not eligible\")"
   ]
  },
  {
   "cell_type": "markdown",
   "metadata": {},
   "source": [
    "\n",
    "3) Write a program to check whether a number entered by user is even or odd."
   ]
  },
  {
   "cell_type": "code",
   "execution_count": 2,
   "metadata": {},
   "outputs": [
    {
     "name": "stdout",
     "output_type": "stream",
     "text": [
      "enter a number: 3\n",
      "it is odd\n"
     ]
    }
   ],
   "source": [
    "num = int(input(\"enter a number: \"))\n",
    "\n",
    "if num % 2 == 0 :\n",
    "    print(\"it is even\")\n",
    "else:\n",
    "    print(\"it is odd\")"
   ]
  },
  {
   "cell_type": "markdown",
   "metadata": {},
   "source": [
    "4) Write a program to check whether a number is divisible by 7 or not.\n",
    "Show Answer"
   ]
  },
  {
   "cell_type": "code",
   "execution_count": 4,
   "metadata": {},
   "outputs": [
    {
     "name": "stdout",
     "output_type": "stream",
     "text": [
      "enter a number: 10\n",
      "it is not divisible by 7\n"
     ]
    }
   ],
   "source": [
    "num = int(input(\"enter a number: \"))\n",
    "\n",
    "if num % 7 == 0 :\n",
    "    print(\"yes it is divisible by 7\")\n",
    "else:\n",
    "    print(\"it is not divisible by 7\")"
   ]
  },
  {
   "cell_type": "markdown",
   "metadata": {},
   "source": [
    "5) Write a program to display \n",
    "\"Hello\" if a number entered by user is a multiple of five , otherwise print \"Bye\"."
   ]
  },
  {
   "cell_type": "code",
   "execution_count": 5,
   "metadata": {},
   "outputs": [
    {
     "name": "stdout",
     "output_type": "stream",
     "text": [
      "enter a number: 10\n",
      "Hello\n"
     ]
    }
   ],
   "source": [
    "num = int(input(\"enter a number: \"))\n",
    "\n",
    "if num % 5 == 0 :\n",
    "    print(\"Hello\")\n",
    "else:\n",
    "    print(\"Bye\")"
   ]
  },
  {
   "cell_type": "markdown",
   "metadata": {},
   "source": [
    "7) Write a program to display the last digit of a number.\n"
   ]
  },
  {
   "cell_type": "code",
   "execution_count": 10,
   "metadata": {},
   "outputs": [
    {
     "name": "stdout",
     "output_type": "stream",
     "text": [
      "enter a number: 43\n",
      "3\n"
     ]
    }
   ],
   "source": [
    "num = int(input(\"enter a number: \"))\n",
    "num_str = str(num)\n",
    "last_num = num_str[-1]\n",
    "print(last_num)"
   ]
  },
  {
   "cell_type": "markdown",
   "metadata": {},
   "source": [
    "9) Take values of length and breadth of a rectangle from user and print if it is square or rectangle."
   ]
  },
  {
   "cell_type": "code",
   "execution_count": 14,
   "metadata": {},
   "outputs": [],
   "source": [
    "length = float(input(\"Enter the length: \"))\n",
    "breadth = float(input(\"Enter the breadth: \"))\n",
    "if length == breadth:\n",
    "    print(\"It is a square.\")\n",
    "else:\n",
    "    print(\"It is a rectangle.\")"
   ]
  },
  {
   "cell_type": "markdown",
   "metadata": {},
   "source": [
    "10) Take two int values from user and print greatest among them."
   ]
  },
  {
   "cell_type": "code",
   "execution_count": 2,
   "metadata": {},
   "outputs": [
    {
     "name": "stdout",
     "output_type": "stream",
     "text": [
      "enter a number: 23\n",
      "enter a number: 99\n",
      "99\n"
     ]
    }
   ],
   "source": [
    "num = 0\n",
    "for i in range(2):\n",
    "    a = int(input(\"enter a number: \"))\n",
    "if a > num:\n",
    "    num = a \n",
    "print(\"greater number among them is\",num)\n"
   ]
  },
  {
   "cell_type": "markdown",
   "metadata": {},
   "source": [
    "11) A shop will give discount of 10% if the cost of purchased quantity is more than 1000.\n",
    "Ask user for quantity\n",
    "Suppose, one unit will cost 100.\n",
    "Judge and print total cost for user."
   ]
  },
  {
   "cell_type": "code",
   "execution_count": 5,
   "metadata": {},
   "outputs": [
    {
     "name": "stdout",
     "output_type": "stream",
     "text": [
      "Enter the quantity: 1001\n",
      "10010.0\n"
     ]
    }
   ],
   "source": [
    "quantity = int(input(\"Enter the quantity: \"))\n",
    "\n",
    "if quantity >= 1000:\n",
    "    total_cost = quantity * 100\n",
    "    discount = (total_cost * 10)/100\n",
    "    \n",
    "    print(discount)"
   ]
  },
  {
   "cell_type": "markdown",
   "metadata": {},
   "source": [
    "12) A school has following rules for grading system:\n",
    "\n",
    "a. Below 25 - F\n",
    "\n",
    "b. 25 to 45 - E\n",
    "\n",
    "c. 45 to 50 - D\n",
    "\n",
    "d. 50 to 60 - C\n",
    "\n",
    "e. 60 to 80 - B\n",
    "\n",
    "f. Above 80 - A\n",
    "\n",
    "Ask user to enter marks and print the corresponding grade."
   ]
  },
  {
   "cell_type": "code",
   "execution_count": 18,
   "metadata": {},
   "outputs": [
    {
     "name": "stdout",
     "output_type": "stream",
     "text": [
      "enter your number: 56\n",
      "grade: C\n"
     ]
    }
   ],
   "source": [
    "number = int(input(\"enter your number: \"))\n",
    "\n",
    "if number > 80 and number<=100:\n",
    "    print(\"grade: A\")\n",
    "    \n",
    "elif number<80 and number>=60:\n",
    "    print(\"grade: B\")\n",
    " \n",
    "elif number<60 and number>=50:\n",
    "    print(\"grade: C\")   \n",
    "\n",
    "elif number<50 and number>=45:\n",
    "    print(\"grade: D\")\n",
    "\n",
    "elif number<45 and number>=25:\n",
    "    print(\"grade: E\")\n",
    "\n",
    "elif number> 0 and number<25:\n",
    "    print(\"grade: F\")\n",
    "    \n",
    "else:\n",
    "    print(\"invalid input\")\n",
    "    \n"
   ]
  },
  {
   "cell_type": "markdown",
   "metadata": {},
   "source": [
    "14)A student will not be allowed to sit in exam if his/her attendence is less than 75%.\n",
    "\n",
    "Take following input from user\n",
    "\n",
    "Number of classes held\n",
    "\n",
    "Number of classes attended.\n",
    "\n",
    "And print\n",
    "\n",
    "percentage of class attended\n",
    "\n",
    "Is student is allowed to sit in exam or not.\n"
   ]
  },
  {
   "cell_type": "code",
   "execution_count": 5,
   "metadata": {},
   "outputs": [
    {
     "name": "stdout",
     "output_type": "stream",
     "text": [
      "Enter the classes held: 21\n",
      "Enter the classes attended: 14\n",
      "precentage of class attended 66.66666666666666\n",
      "you are not eligible\n"
     ]
    }
   ],
   "source": [
    "classes_held = int(input(\"Enter the classes held: \"))\n",
    "attended = int(input(\"Enter the classes attended: \"))\n",
    "precentage = (attended / classes_held) *100\n",
    "print( \"precentage of class attended\",precentage) \n",
    "\n",
    "if precentage >= 70:\n",
    "    print(\"you are eligible to sit in the exam\")\n",
    "    \n",
    "else:\n",
    "    print(\"you are not eligible\")\n"
   ]
  },
  {
   "cell_type": "markdown",
   "metadata": {},
   "source": [
    "15) Modify the above question to allow student to sit if he/she has medical cause. Ask user if he/she has medical cause or not ( 'Y' or 'N' ) and print accordingly."
   ]
  },
  {
   "cell_type": "code",
   "execution_count": 9,
   "metadata": {},
   "outputs": [
    {
     "name": "stdout",
     "output_type": "stream",
     "text": [
      "Enter the classes held: 21\n",
      "Enter the classes attended: 11\n",
      "precentage of class attended 52.38095238095239\n",
      "do you have any medical casuey\n",
      "you are eligible to sit in the exam\n"
     ]
    }
   ],
   "source": [
    "classes_held = int(input(\"Enter the classes held: \"))\n",
    "attended = int(input(\"Enter the classes attended: \"))\n",
    "precentage = (attended / classes_held) *100\n",
    "print( \"precentage of class attended\",precentage) \n",
    "if precentage <= 70:\n",
    "    cause = input(\"do you have any medical casue\").lower()\n",
    "    if cause == \"y\":\n",
    "        print(\"you are eligible to sit in the exam\")\n",
    "    else:\n",
    "        print(\"you are not eligible\")\n",
    "else:\n",
    "    print(\"you are eligible\")\n"
   ]
  },
  {
   "cell_type": "markdown",
   "metadata": {},
   "source": [
    "16) Write a program to check if a year is leap year or not.\n",
    "\n",
    "If a year is divisible by 4 then it is leap year but if the year is century year like 2000, 1900, 2100 then it must be divisible by 400."
   ]
  },
  {
   "cell_type": "code",
   "execution_count": 21,
   "metadata": {},
   "outputs": [],
   "source": [
    "year = int(input(\"enter the year: \"))\n",
    "\n",
    "if year % 400 == 0:\n",
    "    print(\"it is a leap year\")\n",
    "    \n",
    "if year % 100 == 0:\n",
    "    print(\"it's now a leap year\")\n",
    "    \n",
    "if year % 4 == 0:\n",
    "    print(\"it is a leap year\")"
   ]
  },
  {
   "cell_type": "markdown",
   "metadata": {},
   "source": [
    "17) Ask user to enter age, gender ( M or F ), marital status ( Y or N ) and then using following rules print their place of service.\n",
    "\n",
    "if employee is female, then she will work only in urban areas.\n",
    "\n",
    "if employee is a male and age is in between 20 to 40 then he may work in anywhere\n",
    "\n",
    "if employee is male and age is in between 40 t0 60 then he will work in urban areas only.\n",
    "\n",
    "And any other input of age should print \"ERROR\""
   ]
  },
  {
   "cell_type": "code",
   "execution_count": 22,
   "metadata": {},
   "outputs": [],
   "source": [
    "age = int(input(\"Enter your age: \"))\n",
    "gender = input(\"Enter your gender (M or F): \").lower()\n",
    "m_status = input(\"Enter your marital status: \")\n",
    "\n",
    "if gender == \"f\":\n",
    "    print(\"you will work in urban area\")\n",
    "elif (gender == \"m\") and (age>= 20 and age<40):\n",
    "    print(\"you can work anywhere\")\n",
    "elif (gender == \"m\") and (age>= 40 and age<=60):\n",
    "    print(\"you will work in urban area\")\n",
    "elif age<20:\n",
    "    print(\"age should be greater than 20\")\n",
    "else:\n",
    "    print(\"Error\")"
   ]
  },
  {
   "cell_type": "markdown",
   "metadata": {},
   "source": [
    "6) Write a program to calculate the electricity bill (accept number of unit from user) according to the following criteria :\n",
    "     Unit                                                     Price  \n",
    "uptp 100 units                                             no charge\n",
    "Next 200 units                                              Rs 5 per unit\n",
    "After 200 units                                             Rs 10 per unit\n",
    "(For example if input unit is 350 than total bill amount is Rs.3500\n",
    "(For example if input unit is 97 than total bill amount is Rs.0\n",
    "(For example if input unit is 150 than total bill amount is Rs.750"
   ]
  },
  {
   "cell_type": "code",
   "execution_count": 13,
   "metadata": {},
   "outputs": [
    {
     "name": "stdout",
     "output_type": "stream",
     "text": [
      "Enter the number of units: 150\n",
      "ypu have used 150 than total bill amount is: 750\n"
     ]
    }
   ],
   "source": [
    "unit = int(input(\"Enter the number of units: \"))\n",
    "charges = 0\n",
    "\n",
    "if unit<=100:\n",
    "    print(f\"you have used {unit} than total bill amount is: {charges}\")\n",
    "elif 100 < unit <= 300:\n",
    "    charges = unit * 5\n",
    "    print(f\"you have used {unit} than total bill amount is: {charges}\")\n",
    "elif 300 < unit <= 500:\n",
    "    charges = unit * 10\n",
    "    print(f\"you have used {unit} than total bill amount is: {charges}\")"
   ]
  },
  {
   "cell_type": "markdown",
   "metadata": {},
   "source": [
    "13) Take input of age of 3 people by user and determine oldest and youngest among them."
   ]
  },
  {
   "cell_type": "code",
   "execution_count": 2,
   "metadata": {},
   "outputs": [
    {
     "name": "stdout",
     "output_type": "stream",
     "text": [
      "enter a number: 18\n",
      "enter a number: 34\n",
      "enter a number: 77\n",
      "oldest is  77\n",
      "youngest is  77\n"
     ]
    }
   ],
   "source": [
    "old = 0\n",
    "young= 200\n",
    "for i in range(3):\n",
    "    age = int(input(\"enter a number: \"))\n",
    "if age > old:\n",
    "    old = age\n",
    "if age < young:\n",
    "    young = age\n",
    "print(\"oldest is \",old)\n",
    "print(\"youngest is \",young)\n"
   ]
  }
 ],
 "metadata": {
  "kernelspec": {
   "display_name": "Python 3 (ipykernel)",
   "language": "python",
   "name": "python3"
  },
  "language_info": {
   "codemirror_mode": {
    "name": "ipython",
    "version": 3
   },
   "file_extension": ".py",
   "mimetype": "text/x-python",
   "name": "python",
   "nbconvert_exporter": "python",
   "pygments_lexer": "ipython3",
   "version": "3.11.5"
  }
 },
 "nbformat": 4,
 "nbformat_minor": 2
}
