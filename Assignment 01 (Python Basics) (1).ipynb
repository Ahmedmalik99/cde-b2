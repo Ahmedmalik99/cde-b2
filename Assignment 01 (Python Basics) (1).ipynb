{
 "cells": [
  {
   "cell_type": "markdown",
   "metadata": {},
   "source": [
    "# Part -1 Python Basics (Variables)"
   ]
  },
  {
   "cell_type": "markdown",
   "metadata": {},
   "source": [
    "1. Print Your Name with your Father name and Date of birth using suitable escape sequence charactor"
   ]
  },
  {
   "cell_type": "code",
   "execution_count": null,
   "metadata": {},
   "outputs": [
    {
     "name": "stdout",
     "output_type": "stream",
     "text": [
      "Name: M.Ahmed \n",
      " Father Name: Malik Abid Jawad \n",
      " Date of birth: 16/07/2006\n"
     ]
    }
   ],
   "source": [
    "print(\"Name: M.Ahmed \\n Father Name: Malik Abid Jawad \\n Date of birth: 16/07/2006\")"
   ]
  },
  {
   "cell_type": "markdown",
   "metadata": {},
   "source": [
    "2. Write your small bio using variables and print it using print function"
   ]
  },
  {
   "cell_type": "code",
   "execution_count": 2,
   "metadata": {},
   "outputs": [
    {
     "name": "stdout",
     "output_type": "stream",
     "text": [
      " Hi, I'm M.Ahmed and Currently in 2nd semester of Cloud Computing & information science\n"
     ]
    }
   ],
   "source": [
    "Bio = \" Hi, I'm M.Ahmed and Currently in 2nd semester of Cloud Computing & information science\"\n",
    "print(Bio)"
   ]
  },
  {
   "cell_type": "markdown",
   "metadata": {},
   "source": [
    "3. Write a program in which use all the operators we can use in Python"
   ]
  },
  {
   "cell_type": "code",
   "execution_count": 194,
   "metadata": {},
   "outputs": [
    {
     "name": "stdout",
     "output_type": "stream",
     "text": [
      "12\n",
      "-8\n",
      "20\n",
      "0.2\n",
      "2\n",
      "0\n",
      "1024\n",
      "False\n",
      "True\n",
      "False\n",
      "True\n",
      "True\n",
      "False\n"
     ]
    }
   ],
   "source": [
    "# Write your code here\n",
    "#Airthmetic operators\n",
    "\n",
    "a=2\n",
    "b=10\n",
    "print(a+b)#(ADDITION)\n",
    "print(a-b)#(SUBTRACTION)\n",
    "print(a*b)#(MULTIPLICATION)\n",
    "print(a/b)#(DIVISION)\n",
    "print(a%b)#(MODULOUS)\n",
    "print(a//b)#(FLOOR DIVISION)\n",
    "print(a**b) #(EXPONENTIAL)\n",
    "\n",
    "#comparison operators\n",
    "\n",
    "print(a==b)#(EQUALS TO)\n",
    "print(a!=b)#(NOT EQUALS TO)\n",
    "print(a>b)#(GREATER THAN)\n",
    "print(a<b)#(LESSER THAN)\n",
    "print(a<=b)#(GREATER THAN OR EQUALS TO)\n",
    "print(a>=b)#(LESSER THAN OR EQUALS TO)\n"
   ]
  },
  {
   "cell_type": "markdown",
   "metadata": {},
   "source": [
    "4. Completes the following steps of small task:\n",
    "    - Mention Marks of English , Islamiat and Maths out of 100 in 3 different variables\n",
    "    - Mention Variable of Total Marks and assign 300 to it\n",
    "    - Calculate Percentage"
   ]
  },
  {
   "cell_type": "code",
   "execution_count": 261,
   "metadata": {},
   "outputs": [
    {
     "name": "stdout",
     "output_type": "stream",
     "text": [
      "percentage : 90.0 %\n"
     ]
    }
   ],
   "source": [
    "# Write your code here\n",
    "ENGLISH = 85\n",
    "ISLAMIAT = 90\n",
    "MATHS = 95\n",
    "total_marks= 300\n",
    "obtained_marks= ENGLISH + ISLAMIAT + MATHS \n",
    "percentage = ( obtained_marks / total_marks)* 100\n",
    "print(\"percentage :\",percentage, \"%\")"
   ]
  },
  {
   "cell_type": "markdown",
   "metadata": {},
   "source": [
    "# Part -2 Python Basics (Conditional Statements)"
   ]
  },
  {
   "cell_type": "markdown",
   "metadata": {},
   "source": [
    "1) A company decided to give bonus of 5% to employee if his/her year of service is more than 5 years.\n",
    "Ask user for their salary and year of service and print the net bonus amount."
   ]
  },
  {
   "cell_type": "code",
   "execution_count": 279,
   "metadata": {},
   "outputs": [
    {
     "name": "stdout",
     "output_type": "stream",
     "text": [
      "Congratulations! you are eligible for bonus of : 250000\n"
     ]
    }
   ],
   "source": [
    "#Type your code here\n",
    "employee_workyear = float(input(\"enter your work year :\"))\n",
    "employee_salary = int(input(\"enter your salary :\"))\n",
    "bonus=employee_salary*5\n",
    "if employee_workyear > 5:\n",
    "    print(\"Congratulations! you are eligible for bonus of :\",bonus)\n",
    "else:\n",
    "    print(\"you are not eligible for bonus\")\n"
   ]
  },
  {
   "cell_type": "markdown",
   "metadata": {},
   "source": [
    "\n",
    "2) Write a program to check whether a person is eligible for voting or not. (accept age from user) if age is greater than 17 eligible otherwise not eligible"
   ]
  },
  {
   "cell_type": "code",
   "execution_count": 294,
   "metadata": {},
   "outputs": [
    {
     "name": "stdout",
     "output_type": "stream",
     "text": [
      "you are not eligible for voting\n"
     ]
    }
   ],
   "source": [
    "#Type your code here\n",
    "age = int(input(\"enter your age :\"))\n",
    "if age>17:\n",
    "    print(\"you are eligible for voting\")\n",
    "else:\n",
    "    print(\"you are not eligible for voting\")\n",
    "    \n",
    "\n"
   ]
  },
  {
   "cell_type": "markdown",
   "metadata": {},
   "source": [
    "\n",
    "3) Write a program to check whether a number entered by user is even or odd."
   ]
  },
  {
   "cell_type": "code",
   "execution_count": 308,
   "metadata": {},
   "outputs": [
    {
     "name": "stdout",
     "output_type": "stream",
     "text": [
      " the number is even\n"
     ]
    }
   ],
   "source": [
    "#Type your code here\n",
    "give_number = int(input(\"enter the number:\"))\n",
    "if give_number % 2 == 0:\n",
    "    print(\" the number is even\")\n",
    "else:\n",
    "    (\"the number is odd\")\n"
   ]
  },
  {
   "cell_type": "markdown",
   "metadata": {},
   "source": [
    "4) Write a program to check whether a number is divisible by 7 or not.\n",
    "Show Answer"
   ]
  },
  {
   "cell_type": "code",
   "execution_count": 321,
   "metadata": {},
   "outputs": [
    {
     "name": "stdout",
     "output_type": "stream",
     "text": [
      "this number is divisble by 7\n"
     ]
    }
   ],
   "source": [
    "#Type your code here\n",
    "\n",
    "this_number = int(input(\"enter the number :\"))\n",
    "if this_number % 7== 0 :\n",
    "    print(\"this number is divisble by 7\")\n",
    "else:\n",
    "    print(\"the number is not dvisble by 7\")\n",
    "\n"
   ]
  },
  {
   "cell_type": "markdown",
   "metadata": {},
   "source": [
    "5) Write a program to display \n",
    "\"Hello\" if a number entered by user is a multiple of five , otherwise print \"Bye\"."
   ]
  },
  {
   "cell_type": "code",
   "execution_count": null,
   "metadata": {},
   "outputs": [],
   "source": [
    "#Type your code here\n",
    "add_number = int(input(\"Add a number\"))\n",
    "\n",
    "if add_number  % 5 == 0:\n",
    "    print (\"hello! \")\n",
    "else:\n",
    "    print (\"Bye Bye! \")"
   ]
  },
  {
   "cell_type": "markdown",
   "metadata": {},
   "source": [
    "7) Write a program to display the last digit of a number.\n"
   ]
  },
  {
   "cell_type": "code",
   "execution_count": 334,
   "metadata": {},
   "outputs": [
    {
     "name": "stdout",
     "output_type": "stream",
     "text": [
      "last digit of your number is  7\n"
     ]
    }
   ],
   "source": [
    "#Type your code here\n",
    "hello_number = int(input(\"enter your number :\"))\n",
    "last_digit = hello_number % 10\n",
    "print(\"last digit of your number is \", last_digit)"
   ]
  },
  {
   "cell_type": "markdown",
   "metadata": {},
   "source": [
    "9) Take values of length and breadth of a rectangle from user and print if it is square or rectangle."
   ]
  },
  {
   "cell_type": "code",
   "execution_count": 344,
   "metadata": {},
   "outputs": [
    {
     "name": "stdout",
     "output_type": "stream",
     "text": [
      "it is a square\n"
     ]
    }
   ],
   "source": [
    "#Type your code here \n",
    "length = int(input(\"enter the length :\"))\n",
    "breadth = int(input(\"enter the breadth :\"))\n",
    "if length == breadth:\n",
    "    print(\"it is a square\")\n",
    "else:\n",
    "    print(\"it is a rectangle\")"
   ]
  },
  {
   "cell_type": "markdown",
   "metadata": {},
   "source": [
    "10) Take two int values from user and print greatest among them."
   ]
  },
  {
   "cell_type": "code",
   "execution_count": 353,
   "metadata": {},
   "outputs": [
    {
     "name": "stdout",
     "output_type": "stream",
     "text": [
      "b is greater\n"
     ]
    }
   ],
   "source": [
    "# Type your code here\n",
    "a = int(input(\"enter first number\"))\n",
    "b = int(input(\"enter second number\"))\n",
    "if a > b :\n",
    "    print(\"a is greater\")\n",
    "elif b > a:\n",
    "    print(\"b is greater\")\n",
    "else:\n",
    "    print(\"both numbers are equal\")"
   ]
  },
  {
   "cell_type": "markdown",
   "metadata": {},
   "source": [
    "11) A shop will give discount of 10% if the cost of purchased quantity is more than 1000.\n",
    "Ask user for quantity\n",
    "Suppose, one unit will cost 100.\n",
    "Judge and print total cost for user."
   ]
  },
  {
   "cell_type": "code",
   "execution_count": null,
   "metadata": {},
   "outputs": [
    {
     "name": "stdout",
     "output_type": "stream",
     "text": [
      "Total cost after discount : 180000.0\n"
     ]
    }
   ],
   "source": [
    " quantity = int(input(\"Enter quantity\"))\n",
    "\n",
    "unit_price = 100\n",
    "totalcost = quantity * unit_price\n",
    "\n",
    "if totalcost > 1000:\n",
    "    discount = totalcost * 0.1\n",
    "    totalcost = discount\n",
    "\n",
    "print(\"Total cost after discount :\", totalcost)\n"
   ]
  },
  {
   "cell_type": "markdown",
   "metadata": {},
   "source": [
    "12) A school has following rules for grading system:\n",
    "\n",
    "a. Below 25 - F\n",
    "\n",
    "b. 25 to 45 - E\n",
    "\n",
    "c. 45 to 50 - D\n",
    "\n",
    "d. 50 to 60 - C\n",
    "\n",
    "e. 60 to 80 - B\n",
    "\n",
    "f. Above 80 - A\n",
    "\n",
    "Ask user to enter marks and print the corresponding grade."
   ]
  },
  {
   "cell_type": "code",
   "execution_count": 384,
   "metadata": {},
   "outputs": [
    {
     "name": "stdout",
     "output_type": "stream",
     "text": [
      "your grade is : A\n"
     ]
    }
   ],
   "source": [
    "#Type your code here\n",
    "marks = int(input(\"enter your marks :\"))\n",
    "\n",
    "if marks < 25:\n",
    "    print(\"your grade is : F\")\n",
    "elif marks <=45:\n",
    "    print(\"your grade is : E\")\n",
    "elif marks <=50:\n",
    "    print(\"your grade is : D\")\n",
    "elif marks <=60:\n",
    "    print(\"your grade is : C\")\n",
    "elif marks <=80:\n",
    "    print(\"your grade is : B\")\n",
    "else:\n",
    "    print(\"your grade is : A\")\n"
   ]
  },
  {
   "cell_type": "markdown",
   "metadata": {},
   "source": [
    "14)A student will not be allowed to sit in exam if his/her attendence is less than 75%.\n",
    "\n",
    "Take following input from user\n",
    "\n",
    "- Number of classes held\n",
    "\n",
    "- Number of classes attended.\n",
    "\n",
    "And print\n",
    "\n",
    "- percentage of class attended\n",
    "\n",
    "- Is student is allowed to sit in exam or not.\n"
   ]
  },
  {
   "cell_type": "code",
   "execution_count": null,
   "metadata": {},
   "outputs": [],
   "source": [
    "#Type your code here\n",
    "\n",
    "NumberOfClass = int(input(\"Enter total number of classes held: \"))\n",
    "NumberOfClassAtend = int(input(\"Enter number of classes attended: \"))\n",
    "\n",
    "\n",
    "attendance = (NumberOfClass / NumberOfClassAtend) * 100\n",
    "print(\"Attendance Percentage\", attendance, \"%\")\n",
    "\n",
    "if attendance <= 75:\n",
    "    print(\"Allowed to sit in exam.\")\n",
    "else:\n",
    "    print(\"Not allowed to sit in exam.\")"
   ]
  },
  {
   "cell_type": "markdown",
   "metadata": {},
   "source": [
    "15) Modify the above question to allow student to sit if he/she has medical cause. Ask user if he/she has medical cause or not ( 'Y' or 'N' ) and print accordingly."
   ]
  },
  {
   "cell_type": "code",
   "execution_count": null,
   "metadata": {},
   "outputs": [],
   "source": [
    "#Type your code here\n",
    "NumberOfClass = int(input(\"Enter total number of classes held: \"))\n",
    "NumberOfClassAtend = int(input(\"Enter number of classes attended: \"))\n",
    "\n",
    "attendance = (NumberOfClass / NumberOfClassAtend) * 100\n",
    "print(\"Attendance Percentage\", attendance, \"%\")\n",
    "\n",
    "if attendance <= 75:\n",
    "    print(\"Allowed to sit in exam.\")\n",
    "else:\n",
    "    MedicalCasuse = input(\"Do you have a medical cause? (Y/N): \")\n",
    "    if MedicalCasuse == 'Y':\n",
    "        print(\"Allowed to sit in exam due to medical cause.\")\n",
    "    else:\n",
    "        print(\"Not allowed to sit in exam.\")"
   ]
  },
  {
   "cell_type": "markdown",
   "metadata": {},
   "source": [
    "16) Write a program to check if a year is leap year or not.\n",
    "\n",
    "If a year is divisible by 4 then it is leap year but if the year is century year like 2000, 1900, 2100 then it must be divisible by 400."
   ]
  },
  {
   "cell_type": "code",
   "execution_count": 1,
   "metadata": {},
   "outputs": [
    {
     "name": "stdout",
     "output_type": "stream",
     "text": [
      "Enter the year: 2000\n",
      "2000 is a leap year and a century year.\n"
     ]
    }
   ],
   "source": [
    "year = int(input(\"Enter the year: \"))\n",
    "\n",
    "if year % 400 == 0:\n",
    "    print(year, \"is a leap year and a century year.\")\n",
    "elif year % 4 == 0:\n",
    "    print(year, \"is a leap year.\")\n",
    "else:\n",
    "    print(year, \"is not a leap year.\")\n"
   ]
  },
  {
   "cell_type": "markdown",
   "metadata": {},
   "source": [
    "17) Ask user to enter age, gender ( M or F ), marital status ( Y or N ) and then using following rules print their place of service.\n",
    "\n",
    "if employee is female, then she will work only in urban areas.\n",
    "\n",
    "if employee is a male and age is in between 20 to 40 then he may work in anywhere\n",
    "\n",
    "if employee is male and age is in between 40 t0 60 then he will work in urban areas only.\n",
    "\n",
    "And any other input of age should print \"ERROR\""
   ]
  },
  {
   "cell_type": "code",
   "execution_count": null,
   "metadata": {},
   "outputs": [],
   "source": [
    "#Type your code hereage = int(input(\"Enter age: \"))\n",
    "gender = input(\"Enter gender (M/F): \").upper()\n",
    "\n",
    "\n",
    "if gender == 'F':\n",
    "    print(\"She will work only in Urban Areas.\")\n",
    "elif gender == 'M':\n",
    "    if 20 <= age <= 40:\n",
    "        print(\"He can work Anywhere.\")\n",
    "    elif 40 < age <= 60:\n",
    "        print(\"He will work only in Urban Areas.\")\n",
    "    else:\n",
    "        print(\"ERROR\")\n",
    "else:\n",
    "    print(\"Invalid Input\")"
   ]
  },
  {
   "cell_type": "markdown",
   "metadata": {},
   "source": [
    "6) Write a program to calculate the electricity bill (accept number of unit from user) according to the following criteria :\n",
    "     Unit                                                     Price  \n",
    "uptp 100 units                                             no charge\n",
    "Next 200 units                                              Rs 5 per unit\n",
    "After 200 units                                             Rs 10 per unit\n",
    "(For example if input unit is 350 than total bill amount is Rs.3500\n",
    "(For example if input unit is 97 than total bill amount is Rs.0\n",
    "(For example if input unit is 150 than total bill amount is Rs.750"
   ]
  },
  {
   "cell_type": "markdown",
   "metadata": {},
   "source": [
    "13) Take input of age of 3 people by user and determine oldest and youngest among them."
   ]
  },
  {
   "cell_type": "code",
   "execution_count": null,
   "metadata": {},
   "outputs": [],
   "source": [
    "#Type your code here\n",
    "age_1 = int(input(\"Enter your First brother age\"))\n",
    "age_2 = int(input(\"Enter your Second brother age\"))\n",
    "age_3 = int(input(\"Enter your Third brother age\"))\n",
    "\n",
    "if age_1 > age_2  and age_1 > age_3:\n",
    "    oldest = age_1\n",
    "elif age_2 > age_1 and age_2  > age_3:\n",
    "    oldest = age_2 \n",
    "else:\n",
    "    oldest = age_3\n",
    "\n",
    "if age_1 < age_2 and age_1 < age_3:\n",
    "    youngest = a1\n",
    "elif age_2  < age_1 and age_2  < age_3:\n",
    "    youngest = age_2 \n",
    "else:\n",
    "    youngest = age_3\n",
    "\n",
    "print(\"The oldest person is\", oldest, \"years old.\")\n",
    "print(\"The youngest person is\", youngest, \"years old.\")"
   ]
  }
 ],
 "metadata": {
  "kernelspec": {
   "display_name": "Python 3 (ipykernel)",
   "language": "python",
   "name": "python3"
  },
  "language_info": {
   "codemirror_mode": {
    "name": "ipython",
    "version": 3
   },
   "file_extension": ".py",
   "mimetype": "text/x-python",
   "name": "python",
   "nbconvert_exporter": "python",
   "pygments_lexer": "ipython3",
   "version": "3.11.5"
  }
 },
 "nbformat": 4,
 "nbformat_minor": 4
}
