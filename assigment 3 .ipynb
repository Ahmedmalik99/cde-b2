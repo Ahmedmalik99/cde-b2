{
 "cells": [
  {
   "cell_type": "code",
   "execution_count": 16,
   "id": "866e5e44",
   "metadata": {},
   "outputs": [
    {
     "name": "stdout",
     "output_type": "stream",
     "text": [
      "Enter your string: my name is habuba abud \n",
      "the number of vowels in the given string is 8\n"
     ]
    }
   ],
   "source": [
    "# . Write a program that accepts a string from user. Your program should count and display number of \n",
    "# vowels in that string.  \n",
    "\n",
    "user = input(\"Enter your string: \").lower()\n",
    "vowel = \"aeiou\"\n",
    "num_of_vowel = 0\n",
    "for i in user:\n",
    "    if i in vowel:\n",
    "        num_of_vowel+=1\n",
    "    else:\n",
    "        pass\n",
    "print(f\"the number of vowels in the given string is {num_of_vowel}\")\n"
   ]
  },
  {
   "cell_type": "code",
   "execution_count": 6,
   "id": "9ca25a1b",
   "metadata": {},
   "outputs": [
    {
     "name": "stdout",
     "output_type": "stream",
     "text": [
      "Enter your string: Hi this is my assigment NO:3\n",
      "3\n",
      "18\n",
      "1\n",
      "5\n"
     ]
    }
   ],
   "source": [
    "# 2. Write a program that reads a string from keyboard and display: \n",
    "# * The number of uppercase letters in the string \n",
    "# * The number of lowercase letters in the string \n",
    "# * The number of digits in the string \n",
    "# * The number of whitespace characters in the string  \n",
    "\n",
    "uppercase = 0\n",
    "lowercase = 0 \n",
    "digits = 0\n",
    "whitespace = 0\n",
    "\n",
    "user = input(\"Enter your string: \")\n",
    "\n",
    "for i in user:\n",
    "    if i.isupper():\n",
    "        uppercase+=1\n",
    "    elif i.islower():\n",
    "        lowercase+=1\n",
    "    elif i.isdigit():\n",
    "        digits+=1\n",
    "    elif i.isspace():\n",
    "        whitespace+=1\n",
    "    else:\n",
    "        pass\n",
    "print(uppercase)\n",
    "print(lowercase)\n",
    "print(digits)\n",
    "print(whitespace)"
   ]
  },
  {
   "cell_type": "code",
   "execution_count": 12,
   "id": "074820b6",
   "metadata": {},
   "outputs": [
    {
     "name": "stdout",
     "output_type": "stream",
     "text": [
      "enter your string: hello\n",
      "your new string after swapping them up is: 'oellh' \n"
     ]
    }
   ],
   "source": [
    "# . Write a Python program that accepts a string from user. Your program should create and display a \n",
    "# new string where the first and last characters have been exchanged.\n",
    "\n",
    "user = input(\"enter your string: \")\n",
    " \n",
    "if len(user) < 2:\n",
    "    print(\"error increase the lenth of your string \")\n",
    "    \n",
    "else: \n",
    "    new_string = user[-1] + user[1:-1] + user[0]\n",
    "    \n",
    "    print(f\"your new string after swapping them up is: '{new_string}' \")"
   ]
  },
  {
   "cell_type": "code",
   "execution_count": 11,
   "id": "ac34ae79",
   "metadata": {},
   "outputs": [
    {
     "name": "stdout",
     "output_type": "stream",
     "text": [
      "Enter your string: hello\n",
      "olleh\n"
     ]
    }
   ],
   "source": [
    "#  Write a Python program that accepts a string from user. Your program should create a new string in \n",
    "# reverse of first string and display it\n",
    "\n",
    "user = input(\"Enter your string: \")\n",
    "\n",
    "print(user[::-1])"
   ]
  },
  {
   "cell_type": "code",
   "execution_count": 15,
   "id": "81eb96bc",
   "metadata": {},
   "outputs": [
    {
     "name": "stdout",
     "output_type": "stream",
     "text": [
      "Enter you string: hello\n",
      "the new string is elloh\n"
     ]
    }
   ],
   "source": [
    "# . Write a Python program that accepts a string from user. Your program should create a new string by \n",
    "# shifting one position to left. \n",
    "\n",
    "user = input(\"Enter you string: \")\n",
    "\n",
    "if len(user) < 2:\n",
    "    print(\"increase the lenth of your string\")\n",
    "else:\n",
    "    new_string = user[1:] + user[0]\n",
    "    print(\"the new string is\" , new_string)"
   ]
  },
  {
   "cell_type": "code",
   "execution_count": 1,
   "id": "9c5b419c",
   "metadata": {},
   "outputs": [
    {
     "name": "stdout",
     "output_type": "stream",
     "text": [
      "Enter your full name (first name, middle name, last name): muhammad ahmed malik\n",
      "Initials: M. A. M.\n"
     ]
    }
   ],
   "source": [
    "#  6. Write a program that asks the user to input his name and print its initials. Assuming that the user\n",
    "# always types first name, middle name and last name and does not include any unnecessary spaces.\n",
    "# For example, if the user enters Ajay Kumar Garg the program should display A. K. G.\n",
    "# Note:Don't use split() method \n",
    "\n",
    "name = input(\"Enter your full name (first name, middle name, last name): \")\n",
    "\n",
    "initial1 = name[0].upper()  \n",
    "initial2 = name[name.find(' ') + 1].upper()  \n",
    "initial3 = name[name.rfind(' ') + 1].upper()  \n",
    "\n",
    "initials = f\"{initial1}. {initial2}. {initial3}.\"\n",
    "\n",
    "print(\"Initials:\", initials)"
   ]
  },
  {
   "cell_type": "code",
   "execution_count": 3,
   "id": "4b9e7e49",
   "metadata": {},
   "outputs": [
    {
     "name": "stdout",
     "output_type": "stream",
     "text": [
      "Enter your string: dad\n",
      "yes it is palindrome \n"
     ]
    }
   ],
   "source": [
    "# 7. A palindrome is a string that reads the same backward as forward. For example, the words dad,\n",
    "# madam and radar are all palindromes. Write a programs that determines whether the string is a\n",
    "# palindrome.\n",
    "# Note: do not use reverse() method\n",
    "\n",
    "user = input(\"Enter your string: \")\n",
    "\n",
    "palindrome = user[::-1]\n",
    "\n",
    "if user == palindrome:\n",
    "    print(\"yes it is palindrome \")\n",
    "else:\n",
    "    print(\"no its is not palindrome\")"
   ]
  },
  {
   "cell_type": "code",
   "execution_count": 12,
   "id": "6750a0b4",
   "metadata": {},
   "outputs": [
    {
     "name": "stdout",
     "output_type": "stream",
     "text": [
      "SHIFT\n",
      "HIFTS\n",
      "IFTSH\n",
      "FTSHI\n",
      "TSHIF\n",
      "SHIFT\n"
     ]
    }
   ],
   "source": [
    "# 8. Write a program that display following output:\n",
    "# SHIFT\n",
    "# HIFTS\n",
    "# IFTSH\n",
    "# FTSHI\n",
    "# TSHIF\n",
    "# SHIFT \n",
    "\n",
    "user = \"SHIFT\"\n",
    "\n",
    "for i in range(len(user)+1):\n",
    "    print(user[0+i:] + user[:i])"
   ]
  },
  {
   "cell_type": "code",
   "execution_count": 16,
   "id": "761863ef",
   "metadata": {},
   "outputs": [
    {
     "name": "stdout",
     "output_type": "stream",
     "text": [
      "enter you pass: RTXninja1\n",
      "valid password\n"
     ]
    }
   ],
   "source": [
    "#  9. Write a program in python that accepts a string to setup a passwords. Your entered password must\n",
    "# meet the following requirements:\n",
    "# The password must be at least eight characters long.\n",
    "# It must contain at least one uppercase letter.\n",
    "# It must contain at least one lowercase letter.\n",
    "# It must contain at least one numeric digit.\n",
    "# Your program should should peRform this validation. \n",
    "\n",
    "user = input(\"enter you pass: \")\n",
    "\n",
    "upper = False\n",
    "lower = False\n",
    "digit = False\n",
    "\n",
    "for i in user:\n",
    "    if i.isupper():\n",
    "        upper = True\n",
    "    elif i.islower():\n",
    "        lower = True\n",
    "    elif i.isdigit():\n",
    "        digit = True\n",
    "        \n",
    "if upper and lower and digit:\n",
    "    print(\"valid password\")\n",
    "    \n",
    "else:\n",
    "    print(\"make it more strong\")"
   ]
  },
  {
   "cell_type": "code",
   "execution_count": null,
   "id": "fd1fef78",
   "metadata": {},
   "outputs": [],
   "source": []
  }
 ],
 "metadata": {
  "kernelspec": {
   "display_name": "Python 3 (ipykernel)",
   "language": "python",
   "name": "python3"
  },
  "language_info": {
   "codemirror_mode": {
    "name": "ipython",
    "version": 3
   },
   "file_extension": ".py",
   "mimetype": "text/x-python",
   "name": "python",
   "nbconvert_exporter": "python",
   "pygments_lexer": "ipython3",
   "version": "3.11.5"
  }
 },
 "nbformat": 4,
 "nbformat_minor": 5
}
